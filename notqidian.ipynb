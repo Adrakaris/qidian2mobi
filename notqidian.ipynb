{
 "cells": [
  {
   "cell_type": "code",
   "execution_count": 1,
   "metadata": {},
   "outputs": [],
   "source": [
    "import requests\n",
    "import shutil\n",
    "from bs4 import BeautifulSoup\n",
    "import urllib.request\n",
    "import shutil\n",
    "import os\n",
    "from ebooklib import epub\n",
    "import time#\n",
    "import urllib\n",
    "\n",
    "# mobi格式简介 https://www.cnblogs.com/buptzym/p/5249662.html\n",
    "\n",
    "s = requests.Session()\n",
    "s.headers = {\n",
    "    \"User-Agent\": \"Mozilla/5.0 (Macintosh; Intel Mac OS X 10_12_4) AppleWebKit/537.36 (KHTML, like Gecko) Chrome/58.0.3029.110 Safari/537.36\"\n",
    "}\n",
    "\n",
    "\n",
    "epubTOC = []\n",
    "book = epub.EpubBook()\n",
    "\n",
    "# add copyright description\n",
    "copyright = epub.EpubHtml(title=\"版权声明\", file_name=\"copyright.html\")\n",
    "copyright.content = \"\"\"<h1>版权声明</h1>\n",
    "<p>本工具目的是将免费网络在线小说转换成方便kindle用户阅读的mobi电子书, 作品版权归原作者或网站所有, 请不要将该工具用于非法用途。</p>\n",
    "<p>GitHub: https://github.com/fondoger/qidian2mobi</p>\n",
    "\"\"\"\n",
    "book.add_item(copyright)\n",
    "epubTOC.append(epub.Link(\"copyright.html\", \"版权声明\", \"intro\"))"
   ]
  },
  {
   "cell_type": "code",
   "execution_count": 3,
   "metadata": {},
   "outputs": [],
   "source": [
    "def handle_url(url):\n",
    "    # handle urls like `//example.com`\n",
    "    if url[:2] == '//':\n",
    "        return \"http:\" + url\n",
    "    return url\n",
    "\n",
    "def download_image(url, path):\n",
    "    url = handle_url(url)\n",
    "    urllib.request.urlretrieve(url, path)\n",
    "    print(\"success saved book cover image:\", url)\n",
    "\n",
    "chapters_count = 0\n",
    "def handle_chapter(chapter: BeautifulSoup) -> epub.EpubHtml:\n",
    "    global chapters_count\n",
    "    # chapter_name = chapter.get_text()\n",
    "    chapter_name = chapter.find('a').get_text()\n",
    "    chapter_url = chapter.find('a')['href']\n",
    "    print(chapters_count, chapter_name, handle_url(chapter_url))\n",
    "    r = s.get(handle_url(\"https://www.uukanshu.com\"+chapter_url))\n",
    "    soup = BeautifulSoup(r.content, features=\"html.parser\")\n",
    "    # content = soup.find('div', {'class': 'read-content'})\n",
    "    content = soup.find(id=\"contentbox\")\n",
    "    chapters_count += 1\n",
    "    c = epub.EpubHtml(title=chapter_name,\n",
    "            file_name=\"chapter_%d.html\" % chapters_count)\n",
    "    c.set_content(\"<h1>\" + chapter_name + \"</h1>\" + str(content))\n",
    "    book.add_item(c)\n",
    "    # time.sleep(0 if random.randint(0, 10) < 8 else 1)\n",
    "    return c\n",
    "\n",
    "def handle_volume(volume: BeautifulSoup):\n",
    "    volume_name = volume.find('h3').get_text()[56:]\n",
    "    print(\"handling volume: \" + volume_name)\n",
    "    chapters = volume.find_all('li')\n",
    "    global temp\n",
    "    epub_chapters = []\n",
    "    for chapter in chapters:\n",
    "        c = handle_chapter(chapter)\n",
    "        epub_chapters.append(c)\n",
    "    epubTOC.append((epub.Section(volume_name), epub_chapters))\n",
    "\n",
    "def handle_list(theList: BeautifulSoup):\n",
    "    epc = []\n",
    "    lastVol = \"\"\n",
    "    for item in theList:\n",
    "        if item.has_attr(\"class\") and item[\"class\"][0] == \"volume\": # and item.get_text() != lastVol:\n",
    "            \n",
    "            if epc:\n",
    "                epubTOC.append((epub.Section(lastVol), epc))\n",
    "            print(\"handling volume: \" + item.get_text())\n",
    "            lastVol = item.get_text()\n",
    "            epc = []\n",
    "        else:\n",
    "            chap = handle_chapter( item)\n",
    "            epc.append(chap)\n",
    "    if epc:\n",
    "        epubTOC.append((epub.Section(lastVol), epc))"
   ]
  },
  {
   "cell_type": "code",
   "execution_count": 4,
   "metadata": {},
   "outputs": [
    {
     "data": {
      "text/plain": [
       "'unicode-escape'"
      ]
     },
     "execution_count": 4,
     "metadata": {},
     "output_type": "execute_result"
    }
   ],
   "source": [
    "UU_URL = \"https://www.uukanshu.com/b/69778/\"\n",
    "TITLE = \"凡人修仙之仙界篇\"\n",
    "AUTHOR = \"忘语\"\n",
    "\"unicode-escape\""
   ]
  },
  {
   "cell_type": "code",
   "execution_count": 7,
   "metadata": {},
   "outputs": [
    {
     "ename": "AttributeError",
     "evalue": "module 'urllib' has no attribute 'urlopen'",
     "output_type": "error",
     "traceback": [
      "\u001b[1;31m---------------------------------------------------------------------------\u001b[0m",
      "\u001b[1;31mAttributeError\u001b[0m                            Traceback (most recent call last)",
      "Cell \u001b[1;32mIn[7], line 1\u001b[0m\n\u001b[1;32m----> 1\u001b[0m urllib\u001b[39m.\u001b[39;49murlopen(\u001b[39m\"\u001b[39m\u001b[39mhttps://www.uukanshu.com/b/69778/\u001b[39m\u001b[39m\"\u001b[39m)\u001b[39m.\u001b[39mread()\n",
      "\u001b[1;31mAttributeError\u001b[0m: module 'urllib' has no attribute 'urlopen'"
     ]
    }
   ],
   "source": [
    "urllib.urlopen(\"https://www.uukanshu.com/b/69778/\").read()"
   ]
  },
  {
   "cell_type": "code",
   "execution_count": 12,
   "metadata": {},
   "outputs": [
    {
     "name": "stdout",
     "output_type": "stream",
     "text": [
      "book cover src //img.uukanshu.com/fengmian/2017/11/636451526950602517.jpg book title 凡人修仙之仙界篇\n"
     ]
    }
   ],
   "source": [
    "# r = s.get(UU_URL)\n",
    "r = urllib.request.urlopen(\"https://www.uukanshu.com/b/69778/\").read()\n",
    "# r.encoding = 'GBK'\n",
    "# soup = BeautifulSoup(r.content, features=\"html.parser\")\n",
    "soup = BeautifulSoup(r.decode(\"GBK\"), features=\"html.parser\")\n",
    "book_cover_src = soup.find('a', {'class': 'bookImg'}).find('img')['src']\n",
    "# print(f\"book cover src {book_cover_src}\")\n",
    "book_title = soup.find('a', {'class': 'bookImg'}).find('img')['alt']\n",
    "\n",
    "print(\"book cover src\", book_cover_src, \"book title\", book_title)"
   ]
  },
  {
   "cell_type": "code",
   "execution_count": 30,
   "metadata": {},
   "outputs": [
    {
     "data": {
      "text/plain": [
       "<dd class=\"jieshao_content\">\n",
       "<h1><a href=\"/b/69778/\" title=\"·²ÈËÐÞÏÉÖ®ÏÉ½çÆª×îÐÂÕÂ½Ú\">·²ÈËÐÞÏÉÖ®ÏÉ½çÆª×îÐÂÕÂ½Ú</a></h1>\n",
       "<h2>·²ÈËÐÞÏÉÖ®ÏÉ½çÆª×÷Õß£º<a href=\"/search.aspx?t=1&amp;key=%cd%fc%d3%ef\" target=\"_blank\">ÍüÓï</a></h2>\n",
       "<h3>·²ÈËÐÞÏÉÖ®ÏÉ½çÆª¼ò½é£º www.uukanshu.com ·²ÈËÐÞÏÉ£¬·çÔÆÔÙÆð<br/>¡¡¡¡Ê±¿Õ´©Ëó£¬ÂÖ»ØÄæ×ª<br/>¡¡¡¡½ðÏÉÌ«ÒÒ£¬´óÂÞµÀ×æ<br/>¡¡¡¡ÈýÇ§´óµÀ£¬·¨ÔòÖÁ×ð<br/>¡¡¡¡¡¶·²ÈËÐÞÏÉ´«¡·ÏÉ½çÆª£¬Ò»¸öº«Á¢ß³ßåÏÉ½çµÄ¹ÊÊÂ£¬Ò»¸ö·²ÈËÐ¡×ÓÐÞÏÉµÄ²»Ãð´«Ëµ¡£ https://www.uukanshu.com              \n",
       "              <br>\n",
       "                £­£­£­£­£­£­£­£­£­£­£­£­£­£­£­£­£­£­£­£­£­£­£­£­£­£­£­£­£­£­£­£­£­£­£­£­£­\n",
       "              </br></h3>\n",
       "<div class=\"zuixin\">\n",
       "<b>·²ÈËÐÞÏÉÖ®ÏÉ½çÆª×îÐÂÕÂ½Ú</b>£º<a href=\"/b/69778/226130.html\" target=\"_blank\">ÐÂÊé¡¶´óÃÎÖ÷¡·ÉÏ¼Ü¸ÐÑÔ</a>\n",
       "<span class=\"ma_ico\" id=\"mobileread\" onmouseout=\"this.className = this.className.replace(' ma_ico_hover','')\" onmouseover='if(this.className.search(\" ma_ico_hover\")==-1){this.className+=\" ma_ico_hover\";ShowQRCode(69778,0,1);}'>\n",
       "<span class=\"ma_box\">\n",
       "<img height=\"104\" id=\"qrImg\" src=\"//img.uukanshu.com/static/www/images/index_qrcode.png\" style=\"border: 0px currentColor;\" width=\"104\"/>\n",
       "                    É¨Ò»É¨£¬È¥ÊÖ»úÉÏ¿´\n",
       "                    </span>\n",
       "<span class=\"show\"><img alt=\"ÊÖ»úÔÄ¶Á\" height=\"14\" src=\"//img.uukanshu.com/static/www/images/ma_ico.gif\" width=\"14\"/>ÊÖ»úÔÄ¶Á¡¶·²ÈËÐÞÏÉÖ®ÏÉ½çÆª¡·</span>\n",
       "</span>\n",
       "</div>\n",
       "<div class=\"shijian\">¸üÐÂÊ±¼ä£º4¸öÔÂÒÔÇ°\n",
       "              <span id=\"Span1\" style=\"margin-left:20px;margin-right:20px;\"><a href=\"javascript:void(0)\" onclick=\"javascript:Report()\" title=\"ÆäËüÍøÕ¾ÒÑ¾­¸üÐÂ£¬±¾Õ¾Ã»ÓÐ¸üÐÂ£¬µã»÷¸æËß¹ÜÀíÔ±\">Ã»ÓÐ¸üÐÂ£¿¸æËß¹ÜÀíÔ±¸üÐÂ</a></span>\n",
       "<a href=\"/feedback.aspx?tid=69778\" rel=\"nofollow\" style=\"margin-right:20px;\" target=\"_blank\" title=\"ÕÂ½ÚÈ±Ê§¡¢´íÎó£¿¸æËß¹ÜÀíÔ±¸üÕý´íÎó\">ÕÂ½ÚÈ±Ê§¡¢´íÎó±¨¸æ</a>  \n",
       "              </div>\n",
       "<div class=\"shijian\">\n",
       "<a href=\"javascript:void(0)\" id=\"addsj\" onclick=\"addShujia();\" style=\"margin-right:20px;\">¼ÓÈëÊé¼Ü</a>\n",
       "<a href=\"javascript:void(0)\" id=\"addNotice\" onclick=\"addNotice();\" style=\"margin-right:20px; font-weight:bold; color:Red;\" title=\"µ±ÓÐ×îÐÂÕÂ½Ú¸üÐÂÊ±£¬ÏµÍ³½«µÚÒ»Ê±¼ä·¢ËÍÓÊ¼þÍ¨ÖªÄú\">¸üÐÂÌáÐÑ</a>\n",
       "<a href=\"/txt/69778/\" style=\"margin-right:20px;\" target=\"_blank\" title=\"·²ÈËÐÞÏÉÖ®ÏÉ½çÆªTXTÏÂÔØ\">·²ÈËÐÞÏÉÖ®ÏÉ½çÆªTXTÏÂÔØ</a>\n",
       "<a href=\"/t/69778/1/\" style=\"margin-right:20px;\" title=\"·²ÈËÐÞÏÉÖ®ÏÉ½çÆªÈ«ÎÄÔÄ¶Á\">·²ÈËÐÞÏÉÖ®ÏÉ½çÆªÈ«ÎÄÔÄ¶Á</a>\n",
       "<a href=\"/desktop.ashx?url=https%3a%2f%2fwww.uukanshu.com%2fb%2f69778%2f%23desktop&amp;title=%b7%b2%c8%cb%d0%de%cf%c9%d6%ae%cf%c9%bd%e7%c6%aa\" style=\"color:Red;margin-right:20px;\" title=\"ÏÂÔØ±¾Êé¿ì½Ý·½Ê½µ½µçÄÔ×ÀÃæ£¬ÏÂ´Î¿ÉÖ±½Óµã»÷½øÈë\">Ìí¼Óµ½×ÀÃæ</a>\n",
       "</div>\n",
       "</dd>"
      ]
     },
     "execution_count": 30,
     "metadata": {},
     "output_type": "execute_result"
    }
   ],
   "source": [
    "_jieshao = soup.find_all(\"dd\", {\"class\":\"jieshao_content\"})[0]\n",
    "\n",
    "_jieshao"
   ]
  },
  {
   "cell_type": "code",
   "execution_count": 31,
   "metadata": {},
   "outputs": [],
   "source": [
    "author = _jieshao.find('h2').find(\"a\").get_text()"
   ]
  },
  {
   "cell_type": "code",
   "execution_count": 32,
   "metadata": {},
   "outputs": [
    {
     "name": "stdout",
     "output_type": "stream",
     "text": [
      "handling volume: ÕýÎÄ¾í\n",
      "0 µÚ1ÕÂ ºüÅ® /b/69778/13861.html\n",
      "1 µÚ2ÕÂ Ê¯Í·¸ç¸ç /b/69778/13862.html\n",
      "2 µÚ3ÕÂ Ô¶È¥ /b/69778/14437.html\n",
      "3 µÚ4ÕÂ ÏàÒÀ /b/69778/16007.html\n",
      "4 µÚ5ÕÂ ÂíÊÞ /b/69778/16757.html\n",
      "5 µÚ6ÕÂ °×ÅÛÉÙÄê /b/69778/17221.html\n",
      "6 µÚ7ÕÂ Óà¸® /b/69778/17681.html\n",
      "7 µÚ8ÕÂ °×Ê¯ÕæÈË /b/69778/21166.html\n",
      "8 µÚ9ÕÂ ·¨Õó /b/69778/24237.html\n",
      "9 µÚ10ÕÂ Î£»ú /b/69778/25631.html\n",
      "10 µÚ11ÕÂ ËÕÐÑ /b/69778/26690.html\n",
      "11 µÚ12ÕÂ ÎÒÊÇº«Á¢ /b/69778/27624.html\n",
      "12 µÚ13ÕÂ Ä§¹â /b/69778/28499.html\n",
      "13 µÚ14ÕÂ Ôâ±ä /b/69778/29694.html\n"
     ]
    },
    {
     "name": "stderr",
     "output_type": "stream",
     "text": [
      "Some characters could not be decoded, and were replaced with REPLACEMENT CHARACTER.\n"
     ]
    },
    {
     "name": "stdout",
     "output_type": "stream",
     "text": [
      "14 µÚ15ÕÂ ÁîÅÆ /b/69778/53231.html\n",
      "15 µÚ16ÕÂ ¾øÍû /b/69778/53914.html\n",
      "16 µÚ17ÕÂ Ãð2ÐÞ /b/69778/54542.html\n"
     ]
    },
    {
     "name": "stderr",
     "output_type": "stream",
     "text": [
      "Some characters could not be decoded, and were replaced with REPLACEMENT CHARACTER.\n"
     ]
    },
    {
     "name": "stdout",
     "output_type": "stream",
     "text": [
      "17 µÚ18ÕÂ ÇëÇó /b/69778/55327.html\n",
      "18 µÚ19ÕÂ »¯ÉñÖ¶Ëï /b/69778/55964.html\n",
      "19 µÚ20ÕÂ ÑûÇë /b/69778/56616.html\n",
      "20 µÚ21ÕÂ ÔªÓ¤Òì±ä /b/69778/57267.html\n",
      "21 µÚ22ÕÂ ·çÔÆË«É· /b/69778/57993.html\n",
      "22 µÚ23ÕÂ Õù¶· /b/69778/58708.html\n",
      "23 µÚ24ÕÂ ÄëÑ¹ /b/69778/59342.html\n",
      "24 µÚ25ÕÂ Â½ÑÂ /b/69778/60028.html\n",
      "25 µÚ26ÕÂ µÐ×ÙÔÙÏÖ /b/69778/60659.html\n",
      "26 µÚ27ÕÂ µ£5ÔÀ£¬Ñ¹5¹í /b/69778/61308.html\n"
     ]
    },
    {
     "name": "stderr",
     "output_type": "stream",
     "text": [
      "Some characters could not be decoded, and were replaced with REPLACEMENT CHARACTER.\n",
      "Some characters could not be decoded, and were replaced with REPLACEMENT CHARACTER.\n"
     ]
    },
    {
     "name": "stdout",
     "output_type": "stream",
     "text": [
      "27 µÚ28ÕÂ ¾ª¶¯ /b/69778/61910.html\n",
      "28 µÚ29ÕÂ ÁéÑæÉ½Âö /b/69778/62624.html\n",
      "29 µÚ30ÕÂ ¾ÙÌï /b/69778/63245.html\n",
      "30 µÚ31ÕÂ Í¨Ò×¹È /b/69778/63844.html\n",
      "31 µÚ32ÕÂ Äæµ¤¾÷ /b/69778/64514.html\n",
      "32 µÚ33ÕÂ ÏÈÌì×ÏÆø /b/69778/65115.html\n",
      "33 µÚ34ÕÂ Ê§ÇÔ /b/69778/65762.html\n",
      "34 µÚ35ÕÂ Â÷Ìì¹ýº£ /b/69778/66295.html\n",
      "35 µÚ36ÕÂ ÍµÁº»»Öù /b/69778/66442.html\n"
     ]
    },
    {
     "name": "stderr",
     "output_type": "stream",
     "text": [
      "Some characters could not be decoded, and were replaced with REPLACEMENT CHARACTER.\n"
     ]
    },
    {
     "name": "stdout",
     "output_type": "stream",
     "text": [
      "36 µÚ37ÕÂ ÍÑÉí /b/69778/66934.html\n",
      "37 µÚ38ÕÂ Áø°µ»¨Ã÷ /b/69778/67080.html\n",
      "38 µÚ39ÕÂ ´«ÚÍ /b/69778/67559.html\n",
      "39 µÚ40ÕÂ ²»ÁËÁËÖ® /b/69778/67718.html\n",
      "40 µÚ41ÕÂ Ð¡Æ¿ÕÆÌì /b/69778/68190.html\n",
      "41 µÚ42ÕÂ Ê§¶ø¸´µÃ /b/69778/68326.html\n",
      "42 µÚ43ÕÂ ´ó³ðµÃ±¨ /b/69778/68727.html\n",
      "43 µÚ44ÕÂ ¸ôÔª·¨Á´ /b/69778/68867.html\n",
      "44 µÚ45ÕÂ Õâ²»¿ÉÄÜ /b/69778/69401.html\n",
      "45 µÚ46ÕÂ 2¸ö°ì·¨ /b/69778/69582.html\n",
      "46 µÚ47ÕÂ ÊÔÌ½ /b/69778/70008.html\n"
     ]
    },
    {
     "name": "stderr",
     "output_type": "stream",
     "text": [
      "Some characters could not be decoded, and were replaced with REPLACEMENT CHARACTER.\n"
     ]
    },
    {
     "name": "stdout",
     "output_type": "stream",
     "text": [
      "47 µÚ48ÕÂ ½Ù³Ö /b/69778/70156.html\n",
      "48 µÚ49ÕÂ ÒªÐ® /b/69778/70598.html\n",
      "49 µÚ50ÕÂ ÆÆËþ¶ø³ö /b/69778/70752.html\n"
     ]
    },
    {
     "name": "stderr",
     "output_type": "stream",
     "text": [
      "Some characters could not be decoded, and were replaced with REPLACEMENT CHARACTER.\n"
     ]
    },
    {
     "name": "stdout",
     "output_type": "stream",
     "text": [
      "50 µÚ51ÕÂ Ð¡Å²ÒÆ¿Õ¼äÊõ /b/69778/71325.html\n"
     ]
    },
    {
     "name": "stderr",
     "output_type": "stream",
     "text": [
      "Some characters could not be decoded, and were replaced with REPLACEMENT CHARACTER.\n"
     ]
    },
    {
     "name": "stdout",
     "output_type": "stream",
     "text": [
      "51 µÚ52ÕÂ ¸ÃÎÒÁË /b/69778/71933.html\n",
      "52 µÚ53ÕÂ Ä§Ñæ·ÙÉí /b/69778/72506.html\n",
      "53 µÚ54ÕÂ ÍÌÍÂÄ§Ñæ /b/69778/73001.html\n",
      "54 µÚ55ÕÂ ½»´ú /b/69778/73160.html\n",
      "55 µÚ56ÕÂ Ìì¹í³öÊÀ /b/69778/73570.html\n"
     ]
    },
    {
     "name": "stderr",
     "output_type": "stream",
     "text": [
      "Some characters could not be decoded, and were replaced with REPLACEMENT CHARACTER.\n"
     ]
    },
    {
     "name": "stdout",
     "output_type": "stream",
     "text": [
      "56 µÚ57ÕÂ ¾ªÕÝ±ä /b/69778/73773.html\n",
      "57 µÚ58ÕÂ È´Ö®²»¹§ /b/69778/74215.html\n",
      "58 µÚ59ÕÂ ½èÐÇÌ¨ /b/69778/74347.html\n",
      "59 µÚ60ÕÂ Í¨¼© /b/69778/74800.html\n",
      "60 µÚ61ÕÂ °µÁ÷ /b/69778/74918.html\n",
      "61 µÚ62ÕÂ ·´³£ /b/69778/75466.html\n",
      "62 µÚ63ÕÂ Èö¶¹³É±ø /b/69778/76054.html\n",
      "63 µÚ64ÕÂ Í¬Ê±³öÊÖ /b/69778/76603.html\n",
      "64 µÚ65ÕÂ Ðþ»ÆÖ®Ë÷ /b/69778/77143.html\n",
      "65 µÚ66ÕÂ ÁéÓ¤½£·û /b/69778/77655.html\n",
      "66 µÚ67ÕÂ 0Ä¿Ìì¹í /b/69778/78250.html\n"
     ]
    },
    {
     "name": "stderr",
     "output_type": "stream",
     "text": [
      "Some characters could not be decoded, and were replaced with REPLACEMENT CHARACTER.\n"
     ]
    },
    {
     "name": "stdout",
     "output_type": "stream",
     "text": [
      "67 µÚ68ÕÂ ×·É± /b/69778/78803.html\n",
      "68 µÚ69ÕÂ ÒøÔÂÖ®±ä /b/69778/79307.html\n"
     ]
    },
    {
     "name": "stderr",
     "output_type": "stream",
     "text": [
      "Some characters could not be decoded, and were replaced with REPLACEMENT CHARACTER.\n",
      "Some characters could not be decoded, and were replaced with REPLACEMENT CHARACTER.\n"
     ]
    },
    {
     "name": "stdout",
     "output_type": "stream",
     "text": [
      "69 µÚ70ÕÂÌìÍâ·É¶¹ /b/69778/79765.html\n",
      "70 µÚ71ÕÂÄù˜„Ê¥Ìå /b/69778/79911.html\n",
      "71 µÚ72ÕÂÊÕ·þ´ó³Ë /b/69778/80303.html\n",
      "72 µÚ73ÕÂÃðÃÅ /b/69778/80455.html\n",
      "73 µÚ74ÕÂ ³öÊÂÁË /b/69778/80851.html\n",
      "74 µÚ75ÕÂ ´òÌý /b/69778/80972.html\n",
      "75 µÚ76ÕÂ ´«Ææ /b/69778/81354.html\n",
      "76 µÚ77ÕÂ 2¼þÒì±¦ /b/69778/81479.html\n",
      "77 µÚ78ÕÂ ±±¶·ÒìÏó /b/69778/81887.html\n",
      "78 µÚ79ÕÂ ÆÆËéÐé¿Õ /b/69778/82421.html\n",
      "79 ÖîÎ»µÀÓÑ£¬½ÚÈÕ¿ìÀÖ£¡ /b/69778/82675.html\n",
      "80 µÚ80ÕÂ ÉñÃØÆøÅÝ(Ôªµ¤¿ìÀÖ£© /b/69778/83095.html\n"
     ]
    },
    {
     "name": "stderr",
     "output_type": "stream",
     "text": [
      "Some characters could not be decoded, and were replaced with REPLACEMENT CHARACTER.\n",
      "Some characters could not be decoded, and were replaced with REPLACEMENT CHARACTER.\n"
     ]
    },
    {
     "name": "stdout",
     "output_type": "stream",
     "text": [
      "handling volume: µÚ2¾íÖØ»ØÏÉ½ç\n",
      "81 µÚ81ÕÂ ¶ÀÄ¿¾ÞÈËÓë°ëÈËÂí /b/69778/83651.html\n"
     ]
    },
    {
     "name": "stderr",
     "output_type": "stream",
     "text": [
      "Some characters could not be decoded, and were replaced with REPLACEMENT CHARACTER.\n"
     ]
    },
    {
     "name": "stdout",
     "output_type": "stream",
     "text": [
      "82 µÚ82ÕÂ ½»·æ /b/69778/84211.html\n"
     ]
    },
    {
     "name": "stderr",
     "output_type": "stream",
     "text": [
      "Some characters could not be decoded, and were replaced with REPLACEMENT CHARACTER.\n"
     ]
    },
    {
     "name": "stdout",
     "output_type": "stream",
     "text": [
      "83 µÚ83ÕÂ ¼±ÖÐÉúÖÇ /b/69778/84713.html\n"
     ]
    },
    {
     "name": "stderr",
     "output_type": "stream",
     "text": [
      "Some characters could not be decoded, and were replaced with REPLACEMENT CHARACTER.\n"
     ]
    },
    {
     "name": "stdout",
     "output_type": "stream",
     "text": [
      "84 µÚ84ÕÂ µñÏñ /b/69778/85262.html\n",
      "85 µÚ85ÕÂ ×æÉñ /b/69778/85847.html\n",
      "86 µÚ86ÕÂ ÍËµÐ /b/69778/86342.html\n"
     ]
    },
    {
     "name": "stderr",
     "output_type": "stream",
     "text": [
      "Some characters could not be decoded, and were replaced with REPLACEMENT CHARACTER.\n"
     ]
    },
    {
     "name": "stdout",
     "output_type": "stream",
     "text": [
      "87 µÚ87ÕÂ µØÏÉ /b/69778/86896.html\n",
      "88 µÚ88ÕÂ µØµo»¯Éí /b/69778/87398.html\n"
     ]
    },
    {
     "name": "stderr",
     "output_type": "stream",
     "text": [
      "Some characters could not be decoded, and were replaced with REPLACEMENT CHARACTER.\n"
     ]
    },
    {
     "name": "stdout",
     "output_type": "stream",
     "text": [
      "89 µÚ89ÕÂ ÏÉÆ÷ /b/69778/87939.html\n",
      "90 µÚ90ÕÂ Ñ°ÃÙ /b/69778/88441.html\n"
     ]
    },
    {
     "name": "stderr",
     "output_type": "stream",
     "text": [
      "Some characters could not be decoded, and were replaced with REPLACEMENT CHARACTER.\n",
      "Some characters could not be decoded, and were replaced with REPLACEMENT CHARACTER.\n"
     ]
    },
    {
     "name": "stdout",
     "output_type": "stream",
     "text": [
      "91 µÚ91ÕÂ ³¢ÊÔ /b/69778/88977.html\n",
      "92 µÚ92ÕÂ µÚ9ÌõËøÁ´ /b/69778/89469.html\n",
      "93 µÚ93ÕÂ Ç°ÌáÌõ¼þ /b/69778/89977.html\n",
      "94 µÚ94ÕÂ ×æÉñÒÅÑÔ /b/69778/90461.html\n",
      "95 µÚ95ÕÂ Ð¡Æ¿Ê§Áé /b/69778/90976.html\n"
     ]
    },
    {
     "name": "stderr",
     "output_type": "stream",
     "text": [
      "Some characters could not be decoded, and were replaced with REPLACEMENT CHARACTER.\n"
     ]
    },
    {
     "name": "stdout",
     "output_type": "stream",
     "text": [
      "96 µÚ96ÕÂ ÂÌÒºÔÙÏÖ /b/69778/91450.html\n",
      "97 µÚ97ÕÂ 3Ãû×æÉñ /b/69778/91963.html\n"
     ]
    },
    {
     "name": "stderr",
     "output_type": "stream",
     "text": [
      "Some characters could not be decoded, and were replaced with REPLACEMENT CHARACTER.\n",
      "Some characters could not be decoded, and were replaced with REPLACEMENT CHARACTER.\n"
     ]
    },
    {
     "name": "stdout",
     "output_type": "stream",
     "text": [
      "98 µÚ98ÕÂ ±»À§ /b/69778/92471.html\n",
      "99 µÚ99ÕÂ ³ÐÈÏÉí·Ý /b/69778/92996.html\n",
      "100 µÚ100ÕÂ Å£Í·Ãæ¾ß /b/69778/93424.html\n",
      "101 µÚ101ÕÂ ÎÞ³£ÃË /b/69778/93979.html\n",
      "102 µÚ102ÕÂ ³Ùµ½ /b/69778/94548.html\n",
      "103 µÚ103ÕÂ ºìÔÂµºÖ÷ /b/69778/94976.html\n",
      "104 µÚ104ÕÂ ³¯Ê¥ /b/69778/95465.html\n",
      "105 µÚ105ÕÂ ½ÓÍ· /b/69778/95905.html\n",
      "106 µÚ106ÕÂ ÑªÉ«¿Õ¼ä /b/69778/96426.html\n"
     ]
    },
    {
     "name": "stderr",
     "output_type": "stream",
     "text": [
      "Some characters could not be decoded, and were replaced with REPLACEMENT CHARACTER.\n"
     ]
    },
    {
     "name": "stdout",
     "output_type": "stream",
     "text": [
      "107 µÚ107ÕÂ ÍÑÀ§ /b/69778/96899.html\n",
      "108 µÚ108ÕÂ ¹îÒì /b/69778/97363.html\n",
      "109 µÚ109ÕÂ ³õÌ½ºìÔÂ³Ç /b/69778/97773.html\n",
      "110 µÚ110ÕÂ ÏßË÷£¨Ã÷Ìì¿ªÊ¼ÕýÊ½ÉÏ¼Ü£© /b/69778/98256.html\n",
      "111 ÉÏ¼Ü¸ÐÑÔ /b/69778/98335.html\n",
      "handling volume: ÖØ»ØÏÉ½ç\n",
      "112 µÚ111ÕÂ ÌìÑ¡ /b/69778/98498.html\n",
      "113 µÚ112ÕÂ ¶ËÄß /b/69778/98778.html\n",
      "114 µÚ113ÕÂ Ëã¼Æ /b/69778/98902.html\n",
      "115 µÚ114ÕÂ ÒÔÃü»»Ãü /b/69778/99184.html\n",
      "116 µÚ115ÕÂ ÔÙÕ½³ð5 /b/69778/99207.html\n",
      "117 µÚ116ÕÂ ¾ªÍË2ÏÉ /b/69778/99298.html\n",
      "118 µÚ117ÕÂ ÔÙÏÝÀ§¾³ /b/69778/99667.html\n",
      "119 µÚ118ÕÂ ÓÕ¶ü /b/69778/99764.html\n"
     ]
    },
    {
     "name": "stderr",
     "output_type": "stream",
     "text": [
      "Some characters could not be decoded, and were replaced with REPLACEMENT CHARACTER.\n"
     ]
    },
    {
     "name": "stdout",
     "output_type": "stream",
     "text": [
      "120 µÚ119ÕÂ ºìÔÂ /b/69778/100107.html\n",
      "121 µÚ120ÕÂ ÷éÕ½µºÖ÷ /b/69778/100212.html\n"
     ]
    },
    {
     "name": "stderr",
     "output_type": "stream",
     "text": [
      "Some characters could not be decoded, and were replaced with REPLACEMENT CHARACTER.\n"
     ]
    },
    {
     "name": "stdout",
     "output_type": "stream",
     "text": [
      "122 µÚ121ÕÂ ¾Ù¼ö /b/69778/100573.html\n",
      "123 µÚ122ÕÂ ÊÔÁ¶ /b/69778/100688.html\n",
      "124 µÚ123ÕÂ ºÚº£ÖØË®¾­ /b/69778/101037.html\n"
     ]
    },
    {
     "name": "stderr",
     "output_type": "stream",
     "text": [
      "Some characters could not be decoded, and were replaced with REPLACEMENT CHARACTER.\n"
     ]
    },
    {
     "name": "stdout",
     "output_type": "stream",
     "text": [
      "125 µÚ124ÕÂ ÍÁËï¹ûºÍÄýº£¾§ /b/69778/101140.html\n",
      "126 µÚ125ÕÂ ÄýÁ·»¯Éí /b/69778/101467.html\n",
      "127 µÚ126ÕÂ Ð²ÆÈ /b/69778/101557.html\n",
      "128 µÚ127ÕÂ ³öºõÒâÁÏ /b/69778/101894.html\n"
     ]
    },
    {
     "name": "stderr",
     "output_type": "stream",
     "text": [
      "Some characters could not be decoded, and were replaced with REPLACEMENT CHARACTER.\n"
     ]
    },
    {
     "name": "stdout",
     "output_type": "stream",
     "text": [
      "129 µÚ128ÕÂ ÆÆÁ´£¨ÉÏ£© /b/69778/101964.html\n",
      "130 µÚ129ÕÂ ÆÆÁ´£¨ÏÂ£© /b/69778/102307.html\n"
     ]
    },
    {
     "name": "stderr",
     "output_type": "stream",
     "text": [
      "Some characters could not be decoded, and were replaced with REPLACEMENT CHARACTER.\n",
      "Some characters could not be decoded, and were replaced with REPLACEMENT CHARACTER.\n"
     ]
    },
    {
     "name": "stdout",
     "output_type": "stream",
     "text": [
      "131 µÚ130ÕÂ ËÆÔøÏàÊ¶ /b/69778/102391.html\n",
      "132 µÚ131ÕÂ ÁéÒº»¯¾§ /b/69778/102745.html\n",
      "133 µÚ132ÕÂ ÖØË® /b/69778/102819.html\n",
      "134 µÚ133ÕÂ 3´óÖÁ×ð·¨Ôò /b/69778/103157.html\n",
      "135 µÚ134ÕÂ ÄæÌìÁéÎï /b/69778/103227.html\n",
      "136 µÚ135ÕÂ ±¾Ãü8Áé¸× /b/69778/103559.html\n",
      "137 µÚ136ÕÂ °²ÅÅ /b/69778/103637.html\n",
      "138 µÚ137ÕÂ ºÚ·ç³Ç /b/69778/103955.html\n",
      "139 µÚ138ÕÂ ÏÉÔªÊ¯ºÍµØµ¤Ê¦ /b/69778/104000.html\n",
      "140 µÚ139ÕÂ ÏÉ½çµ¤Ê¦ /b/69778/104292.html\n",
      "141 µÚ140ÕÂ µÀµ¤ /b/69778/104383.html\n"
     ]
    },
    {
     "name": "stderr",
     "output_type": "stream",
     "text": [
      "Some characters could not be decoded, and were replaced with REPLACEMENT CHARACTER.\n"
     ]
    },
    {
     "name": "stdout",
     "output_type": "stream",
     "text": [
      "142 ÐÂÄê¿ìÀÖ£¡ /b/69778/104662.html\n",
      "143 µÚ141ÕÂ Á¶µ¤±ÈÊÔ£¨ÐÂÄê¿ìÀÖ£© /b/69778/104711.html\n",
      "144 µÚ142ÕÂ ²»¿É¼æµÃ /b/69778/105065.html\n",
      "145 µÚ143ÕÂ Ñ°ÈË /b/69778/105413.html\n",
      "146 µÚ144ÕÂ Ê§×ÙµÄµºÖ÷Ö®Å® /b/69778/105754.html\n"
     ]
    },
    {
     "name": "stderr",
     "output_type": "stream",
     "text": [
      "Some characters could not be decoded, and were replaced with REPLACEMENT CHARACTER.\n"
     ]
    },
    {
     "name": "stdout",
     "output_type": "stream",
     "text": [
      "147 µÚ145ÕÂ Ñ°¼£×·×Ù /b/69778/106041.html\n",
      "148 ·²ÈË10Äê¸ÐÑÔ£¡£¡£¡ /b/69778/106090.html\n",
      "149 µÚ146ÕÂ ÇàÓðµº2ÐÞ /b/69778/106104.html\n",
      "150 µÚ147ÕÂ ¶á¹¦ /b/69778/106390.html\n"
     ]
    },
    {
     "name": "stderr",
     "output_type": "stream",
     "text": [
      "Some characters could not be decoded, and were replaced with REPLACEMENT CHARACTER.\n"
     ]
    },
    {
     "name": "stdout",
     "output_type": "stream",
     "text": [
      "151 µÚ148ÕÂ ¶·3É· /b/69778/106435.html\n",
      "152 µÚ149ÕÂ ´óÅÄÂô»á /b/69778/106861.html\n"
     ]
    },
    {
     "name": "stderr",
     "output_type": "stream",
     "text": [
      "Some characters could not be decoded, and were replaced with REPLACEMENT CHARACTER.\n"
     ]
    },
    {
     "name": "stdout",
     "output_type": "stream",
     "text": [
      "153 µÚ150ÕÂ ¾º¼Û /b/69778/106937.html\n",
      "154 µÚ151ÕÂ ÖØË®À×Öé /b/69778/107227.html\n",
      "155 µÚ152ÕÂ ³õ¼ûµÀµ¤ /b/69778/107306.html\n",
      "156 µÚ153ÕÂ ²ÎÎòÀ×Öé /b/69778/107592.html\n",
      "157 µÚ154ÕÂ ÖòÁúµÀ /b/69778/107668.html\n",
      "158 µÚ155ÕÂ ÀëÈ¥ /b/69778/107974.html\n",
      "159 µÚ156ÕÂ ØÏ²âÏÉÍ¾ /b/69778/108040.html\n",
      "160 µÚ157ÕÂ ÏÉÕ» /b/69778/108342.html\n",
      "161 µÚ158ÕÂ Æô³Ì /b/69778/108415.html\n",
      "162 µÚ159ÕÂ 1Â·Íù¶« /b/69778/108712.html\n",
      "163 µÚ160ÕÂ ¸Ê9Õæ /b/69778/108791.html\n"
     ]
    },
    {
     "name": "stderr",
     "output_type": "stream",
     "text": [
      "Some characters could not be decoded, and were replaced with REPLACEMENT CHARACTER.\n"
     ]
    },
    {
     "name": "stdout",
     "output_type": "stream",
     "text": [
      "164 ÔÂµ×ÇóÔÂÆ±À²£¡£¡£¡ /b/69778/108816.html\n",
      "165 µÚ161ÕÂ À§¶· /b/69778/109087.html\n",
      "166 µÚ162ÕÂ Ôù·û /b/69778/109165.html\n",
      "167 µÚ163ÕÂ ÊÞ³±Ö®Ñê /b/69778/109464.html\n",
      "168 µÚ164ÕÂ Òþ²ØµÄÇ¿Õß /b/69778/109526.html\n",
      "169 10ÄêõãõÉ·²ÈËÃÎ£¬1³¯³É¾ÍÖÚÓÑÐÄ /b/69778/109776.html\n",
      "170 µÚ165ÕÂ ËÆÔøÏàÊ¶ /b/69778/109847.html\n"
     ]
    },
    {
     "name": "stderr",
     "output_type": "stream",
     "text": [
      "Some characters could not be decoded, and were replaced with REPLACEMENT CHARACTER.\n",
      "Some characters could not be decoded, and were replaced with REPLACEMENT CHARACTER.\n"
     ]
    },
    {
     "name": "stdout",
     "output_type": "stream",
     "text": [
      "171 µÚ166ÕÂ ËÙÖ®·¨Ôò /b/69778/109927.html\n",
      "172 µÚ167ÕÂ ·âÓ¤Ö®³ð /b/69778/110221.html\n",
      "173 µÚ168ÕÂ ×·ÌÓ /b/69778/110285.html\n",
      "174 µÚ169ÕÂ ·´»÷ /b/69778/110600.html\n",
      "175 µÚ170ÕÂ Ç¨Å­ /b/69778/110670.html\n",
      "176 µÚ171ÕÂ ±»±ÆÎÞÄÎ /b/69778/110955.html\n",
      "177 µÚ172ÕÂ ×ö¸öÁË½á /b/69778/111041.html\n",
      "178 µÚ173ÕÂ ËÆÕæËÆ»Ã /b/69778/111339.html\n"
     ]
    },
    {
     "name": "stderr",
     "output_type": "stream",
     "text": [
      "Some characters could not be decoded, and were replaced with REPLACEMENT CHARACTER.\n"
     ]
    },
    {
     "name": "stdout",
     "output_type": "stream",
     "text": [
      "179 µÚ174ÕÂ ±³ºóÖ÷Ê¹£¿ /b/69778/111432.html\n",
      "180 µÚ175ÕÂ ¿çº£À×ÖÛ /b/69778/111781.html\n",
      "181 µÚ176ÕÂ À×±© /b/69778/112124.html\n",
      "182 µÚ177ÕÂ Éîº£¾Þ°ö /b/69778/112477.html\n",
      "183 µÚ178ÕÂ °ö¿ÚÈ¡Öé /b/69778/112534.html\n",
      "184 µÚ179ÕÂ Ì¤×ãÐÂ´óÂ½ /b/69778/112815.html\n",
      "185 µÚ180ÕÂ ¸ÐÓ¦ /b/69778/112892.html\n",
      "186 µÚ181ÕÂ ÌìÄ§¶áÉá /b/69778/113311.html\n"
     ]
    },
    {
     "name": "stderr",
     "output_type": "stream",
     "text": [
      "Some characters could not be decoded, and were replaced with REPLACEMENT CHARACTER.\n"
     ]
    },
    {
     "name": "stdout",
     "output_type": "stream",
     "text": [
      "187 µÚ182ÕÂ ¼ÀÌì /b/69778/113385.html\n",
      "188 µÚ183ÕÂ Ì«¶ëÖïÄ§ /b/69778/113666.html\n",
      "189 µÚ184ÕÂ 1¸öÇëÇó /b/69778/113734.html\n",
      "190 µÚ185ÕÂ ³õÈëÖòÁú /b/69778/114014.html\n",
      "191 µÚ186ÕÂ ´òËã /b/69778/114115.html\n",
      "192 µÚ187ÕÂ ×ÊÖÊµÍÏÂ /b/69778/114426.html\n",
      "193 µÚ188ÕÂ ½ðÏÉÊÕÍ½ /b/69778/114489.html\n",
      "194 µÚ189ÕÂ ¶´¸®ÓëÊØÉ½ÊÞ /b/69778/114790.html\n",
      "195 µÚ190ÕÂ ÎÞÏàÕæÂÖ¾­ /b/69778/114856.html\n",
      "196 µÚ191ÕÂ ÕæÏÉÆÍ´Ó /b/69778/115146.html\n",
      "197 µÚ192ÕÂ Ñ¡ÆÍ /b/69778/115443.html\n",
      "198 µÚ193ÕÂ ÊØÉ½ÁéÊÞ /b/69778/115510.html\n",
      "199 µÚ194ÕÂ ÆøÏ¢ÔÙÏÖ /b/69778/115579.html\n",
      "200 µÚ195ÕÂ »ðÂöÏÖ×Ù /b/69778/115871.html\n",
      "201 µÚ196ÕÂ ²¼ÖÃ /b/69778/115951.html\n",
      "202 µÚ197ÕÂ ÕæÑÔ»¯ÂÖ¾­ /b/69778/116238.html\n",
      "203 µÚ198ÕÂ ¹·ÊºÔË /b/69778/116287.html\n"
     ]
    },
    {
     "name": "stderr",
     "output_type": "stream",
     "text": [
      "Some characters could not be decoded, and were replaced with REPLACEMENT CHARACTER.\n"
     ]
    },
    {
     "name": "stdout",
     "output_type": "stream",
     "text": [
      "204 µÚ199ÕÂ ±±¶·ÌìÐÇÅÌ /b/69778/116566.html\n",
      "205 µÚ200ÕÂ ±¦ÂÖ³õ³É /b/69778/116651.html\n",
      "206 µÚ201ÕÂ ³öÏÖÒì³£ /b/69778/116934.html\n",
      "207 µÚ202ÕÂ ÖØË®ÕæÂÖ /b/69778/116992.html\n",
      "208 µÚ203ÕÂ ³õÈëÌ«Ðþµî /b/69778/117286.html\n",
      "209 µÚ204ÕÂ ÅÉÏµÖ®Õù /b/69778/117345.html\n",
      "210 µÚ205ÕÂ ÄæÔªÊ¯½£ /b/69778/117647.html\n",
      "211 µÚ206ÕÂ °ÑÎÕ·Ö´ç /b/69778/117709.html\n",
      "212 µÚ207ÕÂ µÚ4±úÊ¯½£ /b/69778/117976.html\n",
      "213 µÚ208ÕÂ Ìì½£Ú£ /b/69778/118043.html\n",
      "214 µÚ209ÕÂ 0·æ¾ÛÁé /b/69778/118321.html\n",
      "215 µÚ210ÕÂ Èº½£ÂÒÎè /b/69778/118389.html\n",
      "216 µÚ211ÕÂ Äæ×ª /b/69778/118658.html\n",
      "217 µÚ212ÕÂ ÆÆ¿Õ /b/69778/118719.html\n",
      "218 µÚ213ÕÂ »ØÀ´ÁË /b/69778/119006.html\n",
      "219 µÚ214ÕÂ 6µÀ /b/69778/119078.html\n",
      "220 µÚ215ÕÂ Èººï°ÝÏÉ /b/69778/119363.html\n",
      "221 µÚ216ÕÂ ÖÓÃùÉùÆð /b/69778/119436.html\n",
      "222 µÚ217ÕÂ åååÝÀÏÍ· /b/69778/119700.html\n",
      "223 µÚ218ÕÂ 1¸öÇÉºÏ /b/69778/119780.html\n"
     ]
    },
    {
     "name": "stderr",
     "output_type": "stream",
     "text": [
      "Some characters could not be decoded, and were replaced with REPLACEMENT CHARACTER.\n",
      "Some characters could not be decoded, and were replaced with REPLACEMENT CHARACTER.\n"
     ]
    },
    {
     "name": "stdout",
     "output_type": "stream",
     "text": [
      "224 µÚ219ÕÂ Ð¡ÊÔ·æÃ¢ /b/69778/120062.html\n",
      "225 µÚ220ÕÂ Ë³µÀÎªÖ® /b/69778/120125.html\n",
      "226 µÚ221ÕÂ õ®õ­ÂÛµÀ /b/69778/120523.html\n",
      "227 µÚ222ÕÂ ¾Æ·êÖª¼º /b/69778/120524.html\n",
      "228 µÚ223ÕÂ Ó¡¼Ç /b/69778/120733.html\n"
     ]
    },
    {
     "name": "stderr",
     "output_type": "stream",
     "text": [
      "Some characters could not be decoded, and were replaced with REPLACEMENT CHARACTER.\n"
     ]
    },
    {
     "name": "stdout",
     "output_type": "stream",
     "text": [
      "229 µÚ224ÕÂ ÒÆ»ö½­¶« /b/69778/120821.html\n",
      "230 µÚ225ÕÂ ÓÖ¼ûËï¿Ë /b/69778/121123.html\n",
      "231 µÚ226ÕÂ ÏÉË× /b/69778/121187.html\n",
      "232 µÚ227ÕÂ 3Â· /b/69778/121760.html\n",
      "233 µÚ228ÕÂ ²î¾à /b/69778/121823.html\n",
      "234 µÚ229ÕÂ ±»À§ /b/69778/122096.html\n",
      "235 µÚ230ÕÂ »°¶à /b/69778/122143.html\n",
      "236 µÚ231ÕÂ ÖØË®Ö®Íþ /b/69778/122419.html\n",
      "237 µÚ232ÕÂ ÊÍÒÉ /b/69778/122474.html\n",
      "238 µÚ233ÕÂ Ö²¶¹±ø /b/69778/122732.html\n",
      "239 µÚ234ÕÂ ºï¶ù¾Æ /b/69778/122796.html\n",
      "240 µÚ235ÕÂ ºïÍõÏ×±¦ /b/69778/123036.html\n",
      "241 ·²ÈËµÚ9½ìÊéÆÀÈü¡°ÃÎÏë²»ËÀ¡±±­ÕýÊ½¿ªÈü /b/69778/123093.html\n",
      "242 µÚ236ÕÂ ³õÉæÏÉµ¤ /b/69778/123104.html\n",
      "243 µÚ237ÕÂ ·¨ÔòÁ¶µ¤ /b/69778/123338.html\n",
      "244 µÚ238ÕÂ ÄÒÖÐÐßÉ¬ /b/69778/123417.html\n",
      "245 µÚ239ÕÂ ¿ñÈË /b/69778/123662.html\n",
      "246 µÚ240ÕÂ ½ðÏÉÒéÊÂ /b/69778/123732.html\n",
      "247 µÚ241ÕÂ ÷ë9´«Ñ¶ /b/69778/123984.html\n",
      "248 µÚ242ÕÂ ÈÛ½ðÁ¶½£ /b/69778/124064.html\n",
      "249 µÚ243ÕÂ ¼«º® /b/69778/124304.html\n",
      "250 µÚ244ÕÂ ÅÐ¶Ï /b/69778/124360.html\n",
      "251 µÚ245ÕÂ Èë¹È /b/69778/124620.html\n"
     ]
    },
    {
     "ename": "",
     "evalue": "",
     "output_type": "error",
     "traceback": [
      "\u001b[1;31mFailed to interrupt the Kernel. \n",
      "\u001b[1;31mNo kernel associated with the notebook. \n",
      "\u001b[1;31mView Jupyter <a href='command:jupyter.viewOutput'>log</a> for further details."
     ]
    },
    {
     "ename": "",
     "evalue": "",
     "output_type": "error",
     "traceback": [
      "\u001b[1;31mFailed to interrupt the Kernel. \n",
      "\u001b[1;31mNo kernel associated with the notebook. \n",
      "\u001b[1;31mView Jupyter <a href='command:jupyter.viewOutput'>log</a> for further details."
     ]
    },
    {
     "ename": "",
     "evalue": "",
     "output_type": "error",
     "traceback": [
      "\u001b[1;31mFailed to restart the Kernel. \n",
      "\u001b[1;31mNo kernel associated with the notebook. \n",
      "\u001b[1;31mView Jupyter <a href='command:jupyter.viewOutput'>log</a> for further details."
     ]
    }
   ],
   "source": [
    "theList = soup.find(id=\"chapterList\")\n",
    "# theList.find_all(\"li\")\n",
    "handle_list(reversed(list(theList.find_all(\"li\"))))"
   ]
  },
  {
   "cell_type": "code",
   "execution_count": null,
   "metadata": {},
   "outputs": [],
   "source": [
    "\n",
    "theList = soup.find(id=\"chapterList\")\n",
    "handle_list(reversed(list(theList.descendants)))\n",
    "\n",
    "# set title\n",
    "book.set_title(book_title)\n",
    "# set author\n",
    "book.add_author(book_author)\n",
    "# set cover\n",
    "download_image(book_cover_src, \"book_cover.jpg\")\n",
    "book.set_cover('cover.jpg', open('book_cover.jpg', 'rb').read())\n",
    "# set book language\n",
    "book.set_language('zh_Hans')\n",
    "# set book's TOC\n",
    "book.toc = epubTOC\n",
    "# add navigation files\n",
    "book.add_item(epub.EpubNcx())\n",
    "book.add_item(epub.EpubNav())\n",
    "\n",
    "# save book\n",
    "epub.write_epub('book.epub', book)\n",
    "print(book_title + \"-\" + book_author, end=\" \")\n",
    "print(\"successfully saved to book.epub\")\n",
    "\n",
    "print(\"you can use kindlegen tool to convert epub to mobi\")\n",
    "print(\"for example: `bin/kindlegen book.epub`\")\n",
    "print(\"(choose executable file in bin/ directory depending on your operating system.)\")"
   ]
  }
 ],
 "metadata": {
  "kernelspec": {
   "display_name": "Python 3 (ipykernel)",
   "language": "python",
   "name": "python3"
  },
  "language_info": {
   "codemirror_mode": {
    "name": "ipython",
    "version": 3
   },
   "file_extension": ".py",
   "mimetype": "text/x-python",
   "name": "python",
   "nbconvert_exporter": "python",
   "pygments_lexer": "ipython3",
   "version": "3.9.5"
  },
  "orig_nbformat": 4
 },
 "nbformat": 4,
 "nbformat_minor": 2
}
